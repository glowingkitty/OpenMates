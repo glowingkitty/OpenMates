{
 "cells": [
  {
   "cell_type": "markdown",
   "id": "99bdc328",
   "metadata": {},
   "source": [
    "# MOTIS API Notebook: Find Connections from A to B\n",
    "\n",
    "This Jupyter notebook demonstrates how to use the **MOTIS routing API** to compute public transit, walking, biking, and multimodal connections between two locations. We will use the `/api/v3/plan` endpoint for optimal routing, and also show examples of geocoding, timetables, and map integration.\n",
    "\n",
    "## API Endpoints Covered\n",
    "- `routing/plan`: Finds optimal connections from A to B\n",
    "- `geocode/geocode`: Autocomplete and resolve place names\n",
    "- `geocode/reverseGeocode`: Get place info from coordinates\n",
    "- `timetable/stoptimes`: Get departures from a stop\n",
    "- `map/trips`: Get trips in a geographic area\n",
    "\n",
    "We'll use Python with `requests` to interact with the API.\n",
    "\n",
    "### Motivation\n",
    "MOTIS is a powerful open-source multimodal routing engine built on OpenStreetMap and GTFS data. This notebook serves as a practical starting point for developers and analysts exploring transport networks."
   ]
  },
  {
   "cell_type": "code",
   "execution_count": 1,
   "id": "8fa134ee",
   "metadata": {},
   "outputs": [],
   "source": [
    "# Import required libraries\n",
    "import requests\n",
    "import json\n",
    "from datetime import datetime, timedelta\n",
    "import pandas as pd\n",
    "from IPython.display import display, HTML, JSON"
   ]
  },
  {
   "cell_type": "markdown",
   "id": "0d2ec5e6",
   "metadata": {},
   "source": [
    "## 1. Configure API Settings\n",
    "\n",
    "Choose which server to use. You can run a local instance or use the public staging/production server."
   ]
  },
  {
   "cell_type": "code",
   "execution_count": 2,
   "id": "47721bda",
   "metadata": {},
   "outputs": [
    {
     "name": "stdout",
     "output_type": "stream",
     "text": [
      "Using PRODUCTION server: https://api.transitous.org\n"
     ]
    }
   ],
   "source": [
    "# 🌐 API Base URLs\n",
    "BASE_URLS = {\n",
    "    \"local\": \"http://localhost:8080\",\n",
    "    \"production\": \"https://api.transitous.org\",\n",
    "    \"staging\": \"https://staging.api.transitous.org\"\n",
    "}\n",
    "\n",
    "# 🔧 Select your environment\n",
    "ENV = \"production\"  # Change to 'local' or 'staging' if needed\n",
    "BASE_URL = BASE_URLS[ENV]\n",
    "\n",
    "# 👉 Main routing endpoint\n",
    "PLAN_ENDPOINT = f\"{BASE_URL}/api/v3/plan\"\n",
    "GEOCODE_ENDPOINT = f\"{BASE_URL}/api/v1/geocode\"\n",
    "REVERSE_GEOCODE_ENDPOINT = f\"{BASE_URL}/api/v1/reverse-geocode\"\n",
    "STOPTIMES_ENDPOINT = f\"{BASE_URL}/api/v1/stoptimes\"\n",
    "MAP_TRIPS_ENDPOINT = f\"{BASE_URL}/api/v1/map/trips\"\n",
    "\n",
    "print(f\"Using {ENV.upper()} server: {BASE_URL}\")"
   ]
  },
  {
   "cell_type": "markdown",
   "id": "2a3c3988",
   "metadata": {},
   "source": [
    "## 2. Helper Functions\n",
    "\n",
    "Reusable functions to interact with the API cleanly."
   ]
  },
  {
   "cell_type": "code",
   "execution_count": 3,
   "id": "d4d12ece",
   "metadata": {},
   "outputs": [],
   "source": [
    "def geocode_place(text, language=\"en\", type=\"STOP,ADDRESS\", place=None):\n",
    "    \"\"\"\n",
    "    Resolve a textual location (e.g. street name, stop) to coordinates.\n",
    "    \"\"\"\n",
    "    params = {\n",
    "        \"text\": text,\n",
    "        \"language\": language,\n",
    "        \"type\": type\n",
    "    }\n",
    "    if place:\n",
    "        params[\"place\"] = place\n",
    "\n",
    "    response = requests.get(GEOCODE_ENDPOINT, params=params)\n",
    "    if response.status_code == 200:\n",
    "        return response.json()\n",
    "    else:\n",
    "        print(f\"❌ Geocode failed: {response.status_code} - {response.text}\")\n",
    "        return None\n",
    "\n",
    "def reverse_geocode(lat, lon, type=\"STOP,ADDRESS\"):\n",
    "    \"\"\"\n",
    "    Get place information from coordinates.\n",
    "    \"\"\"\n",
    "    params = {\n",
    "        \"place\": f\"{lat},{lon}\",\n",
    "        \"type\": type\n",
    "    }\n",
    "    response = requests.get(REVERSE_GEOCODE_ENDPOINT, params=params)\n",
    "    if response.status_code == 200:\n",
    "        return response.json()\n",
    "    else:\n",
    "        print(f\"❌ Reverse geocode failed: {response.status_code} - {response.text}\")\n",
    "        return None\n",
    "\n",
    "def get_connections(from_place, to_place, \n",
    "                   time=None, arrive_by=False, max_transfers=4, \n",
    "                   transit_modes=\"TRANSIT\", direct_modes=\"WALK\",\n",
    "                   num_itineraries=3, detailed_transfers=True):\n",
    "    \"\"\"\n",
    "    Compute optimal connections from A to B using the plan endpoint.\n",
    "    \n",
    "    Parameters:\n",
    "        from_place: str (lat,lon or stop ID)\n",
    "        to_place: str (lat,lon or stop ID)\n",
    "        time: ISO datetime string (default: now)\n",
    "        arrive_by: bool (if True, plan to arrive at `time`)\n",
    "        max_transfers: int\n",
    "        transit_modes: comma-separated string (e.g., 'TRANSIT', 'METRO,BUS')\n",
    "        direct_modes: mode for first/last mile (e.g., 'WALK', 'BIKE')\n",
    "        num_itineraries: number of results to return\n",
    "        detailed_transfers: include step-by-step instructions\n",
    "    \"\"\"\n",
    "    params = {\n",
    "        \"fromPlace\": from_place,\n",
    "        \"toPlace\": to_place,\n",
    "        \"maxTransfers\": max_transfers,\n",
    "        \"transitModes\": transit_modes,\n",
    "        \"directModes\": direct_modes,\n",
    "        \"numItineraries\": num_itineraries,\n",
    "        \"detailedTransfers\": detailed_transfers,\n",
    "        \"arriveBy\": arrive_by,\n",
    "        \"timetableView\": True\n",
    "    }\n",
    "    \n",
    "    if time:\n",
    "        params[\"time\"] = time\n",
    "    else:\n",
    "        params[\"time\"] = (datetime.now()).isoformat()\n",
    "\n",
    "    response = requests.get(PLAN_ENDPOINT, params=params)\n",
    "    if response.status_code == 200:\n",
    "        return response.json()\n",
    "    else:\n",
    "        print(f\"❌ Routing failed: {response.status_code} - {response.text}\")\n",
    "        return None\n",
    "\n",
    "def get_stoptimes(stop_id, n=5, arrive_by=False, direction=\"LATER\"):\n",
    "    \"\"\"\n",
    "    Get next departures or arrivals from a stop.\n",
    "    \"\"\"\n",
    "    params = {\n",
    "        \"stopId\": stop_id,\n",
    "        \"n\": n,\n",
    "        \"arriveBy\": arrive_by,\n",
    "        \"direction\": direction\n",
    "    }\n",
    "\n",
    "    response = requests.get(STOPTIMES_ENDPOINT, params=params)\n",
    "    if response.status_code == 200:\n",
    "        return response.json()\n",
    "    else:\n",
    "        print(f\"❌ Stoptimes failed: {response.status_code} - {response.text}\")\n",
    "        return None\n",
    "\n",
    "def get_trips_in_area(min_lat_lon, max_lat_lon, zoom=13, \n",
    "                      start_time=None, end_time=None):\n",
    "    \"\"\"\n",
    "    Get all trips operating in a bounding box and time window.\n",
    "    \"\"\"\n",
    "    if not start_time:\n",
    "        start_time = (datetime.now()).isoformat()\n",
    "    if not end_time:\n",
    "        end_time = (datetime.now() + timedelta(hours=2)).isoformat()\n",
    "\n",
    "    params = {\n",
    "        \"zoom\": zoom,\n",
    "        \"min\": min_lat_lon,\n",
    "        \"max\": max_lat_lon,\n",
    "        \"startTime\": start_time,\n",
    "        \"endTime\": end_time\n",
    "    }\n",
    "\n",
    "    response = requests.get(MAP_TRIPS_ENDPOINT, params=params)\n",
    "    if response.status_code == 200:\n",
    "        return response.json()\n",
    "    else:\n",
    "        print(f\"❌ Map trips failed: {response.status_code} - {response.text}\")\n",
    "        return None"
   ]
  },
  {
   "cell_type": "markdown",
   "id": "c031806d",
   "metadata": {},
   "source": [
    "## 3. Example: Find a Connection from A to B\n",
    "\n",
    "Let’s plan a trip from **Hauptbahnhof München** to **Olympiazentrum München** using transit + walking."
   ]
  },
  {
   "cell_type": "code",
   "execution_count": 4,
   "id": "c9ef45eb",
   "metadata": {},
   "outputs": [
    {
     "name": "stdout",
     "output_type": "stream",
     "text": [
      "🔍 Geocoding 'München Hauptbahnhof'...\n",
      "📍 Found: München Hauptbahnhof (ID: at-Railway-Current-Reference-Data-2025_de:09162:100:11:11, 48.13988,11.557491)\n",
      "\n",
      "🔍 Geocoding 'Olympiazentrum, München'...\n",
      "📍 Found: Olympiazentrum (ID: de-DELFI_de:09162:350, 48.178894,11.55617)\n"
     ]
    }
   ],
   "source": [
    "# 📍 Step 1: Geocode the start and end places\n",
    "\n",
    "from_query = \"München Hauptbahnhof\"\n",
    "to_query = \"Olympiazentrum, München\"\n",
    "\n",
    "print(f\"🔍 Geocoding '{from_query}'...\")\n",
    "from_results = geocode_place(from_query, type=\"STOP\")\n",
    "if not from_results:\n",
    "    raise Exception(\"Could not geocode start location\")\n",
    "\n",
    "from_stop = from_results[0]\n",
    "from_place = f\"{from_stop['lat']},{from_stop['lon']}\"\n",
    "\n",
    "print(f\"📍 Found: {from_stop['name']} (ID: {from_stop['id']}, {from_stop['lat']},{from_stop['lon']})\")\n",
    "\n",
    "print(f\"\\n🔍 Geocoding '{to_query}'...\")\n",
    "to_results = geocode_place(to_query, type=\"STOP\")\n",
    "if not to_results:\n",
    "    raise Exception(\"Could not geocode end location\")\n",
    "\n",
    "to_stop = to_results[0]\n",
    "to_place = f\"{to_stop['lat']},{to_stop['lon']}\"\n",
    "\n",
    "print(f\"📍 Found: {to_stop['name']} (ID: {to_stop['id']}, {to_stop['lat']},{to_stop['lon']})\")"
   ]
  },
  {
   "cell_type": "code",
   "execution_count": 15,
   "id": "9a92ecd6",
   "metadata": {},
   "outputs": [
    {
     "name": "stdout",
     "output_type": "stream",
     "text": [
      "🚆 Planning journey from München Hauptbahnhof to Olympiazentrum at 2025-08-12T05:02:11.086556...\n",
      "\n",
      "{'requestParameters': {}, 'debugOutput': {'direct': 3, 'execute_time': 182, 'fastest_direct': 32767, 'fp_update_prevented_by_lower_bound': 134451, 'interval_extensions': 0, 'lb_time': 187, 'n_dest_offsets': 22, 'n_earliest_arrival_updated_by_footpath': 223322, 'n_earliest_arrival_updated_by_route': 346019, 'n_earliest_trip_calls': 7456342, 'n_footpaths_visited': 1888891, 'n_routes_visited': 734363, 'n_routing_time': 0, 'n_start_offsets': 130, 'n_td_dest_offsets': 0, 'n_td_start_offsets': 0, 'query_preparation': 77, 'route_update_prevented_by_lower_bound': 0}, 'from': {'name': 'START', 'lat': 48.13988, 'lon': 11.557491, 'level': 0.0, 'vertexType': 'NORMAL'}, 'to': {'name': 'END', 'lat': 48.178894, 'lon': 11.55617, 'level': 0.0, 'vertexType': 'NORMAL'}, 'direct': [], 'itineraries': [], 'previousPageCursor': 'EARLIER|1754870400', 'nextPageCursor': 'LATER|1754870400'}\n"
     ]
    }
   ],
   "source": [
    "# ⏱️ Set travel time\n",
    "travel_time = (datetime.now() + timedelta(minutes=10)).isoformat()\n",
    "\n",
    "print(f\"🚆 Planning journey from {from_stop['name']} to {to_stop['name']} at {travel_time}...\\n\")\n",
    "\n",
    "# 🚆 Get connections\n",
    "itineraries = get_connections(\n",
    "    from_place=from_place,\n",
    "    to_place=to_place,\n",
    "    time=travel_time,\n",
    "    arrive_by=False,\n",
    "    max_transfers=3,\n",
    "    transit_modes=\"TRANSIT\",\n",
    "    direct_modes=\"WALK\",\n",
    "    num_itineraries=5\n",
    ")\n",
    "\n",
    "if not itineraries:\n",
    "    raise Exception(\"No connections found\")\n",
    "\n",
    "print(itineraries)"
   ]
  },
  {
   "cell_type": "markdown",
   "id": "f315c9fd",
   "metadata": {},
   "source": [
    "## 4. Display Itineraries\n",
    "\n",
    "Parse and visualize the returned routes."
   ]
  },
  {
   "cell_type": "code",
   "execution_count": 6,
   "id": "e07bb354",
   "metadata": {},
   "outputs": [],
   "source": [
    "def format_duration(seconds):\n",
    "    \"\"\"Convert seconds to HH:MM format.\"\"\"\n",
    "    return str(timedelta(seconds=seconds)).split('.')[0]\n",
    "\n",
    "def parse_itinerary(iti, idx):\n",
    "    start = datetime.fromisoformat(iti['startTime'].replace(\"Z\", \"+00:00\")).strftime(\"%H:%M\")\n",
    "    end = datetime.fromisoformat(iti['endTime'].replace(\"Z\", \"+00:00\")).strftime(\"%H:%M\")\n",
    "    duration = format_duration(iti['duration'])\n",
    "    transfers = iti['transfers']\n",
    "    \n",
    "    legs = []\n",
    "    for leg_idx, leg in enumerate(iti['legs']):\n",
    "        mode = leg['mode']\n",
    "        from_name = leg['from']['name']\n",
    "        to_name = leg['to']['name']\n",
    "        headsign = leg.get('headsign', '')\n",
    "        route = leg.get('routeShortName', '')\n",
    "        \n",
    "        if mode == \"WALK\":\n",
    "            legs.append(f\"🚶 Walk from <strong>{from_name}</strong> to <strong>{to_name}</strong>\")\n",
    "        elif mode in [\"BUS\", \"TRAM\", \"SUBWAY\", \"RAIL\"]:\n",
    "            legs.append(f\"🚍 {mode} <strong>{route}</strong> to <strong>{to_name}</strong> (headsign: {headsign})\")\n",
    "        else:\n",
    "            legs.append(f\"{mode} from {from_name} to {to_name}\")\n",
    "    \n",
    "    return f\"<h4>Option {idx+1}: {start} → {end} | {duration} | {transfers} transfer(s)</h4><ul><li>{'</li><li>'.join(legs)}</ul>\""
   ]
  },
  {
   "cell_type": "code",
   "execution_count": 14,
   "id": "9a00bf0b",
   "metadata": {},
   "outputs": [
    {
     "name": "stdout",
     "output_type": "stream",
     "text": [
      "✅ Found routes:\n",
      "\n",
      "[]\n"
     ]
    }
   ],
   "source": [
    "# 📋 Display top itineraries\n",
    "print(\"✅ Found routes:\\n\")\n",
    "\n",
    "print(itineraries['itineraries'])"
   ]
  },
  {
   "cell_type": "markdown",
   "id": "da7b7705",
   "metadata": {},
   "source": [
    "## 5. View Raw JSON Response (Optional)\n",
    "\n",
    "Uncomment to explore full API response structure."
   ]
  },
  {
   "cell_type": "code",
   "execution_count": 8,
   "id": "e36f1149",
   "metadata": {},
   "outputs": [],
   "source": [
    "# 🔍 View full API response\n",
    "# JSON(itineraries)"
   ]
  },
  {
   "cell_type": "markdown",
   "id": "5d21ffed",
   "metadata": {},
   "source": [
    "## 6. Check Departures from Origin Stop\n",
    "\n",
    "Get real-time stoptimes for the departure location."
   ]
  },
  {
   "cell_type": "code",
   "execution_count": 9,
   "id": "481c80b6",
   "metadata": {},
   "outputs": [
    {
     "name": "stdout",
     "output_type": "stream",
     "text": [
      "🚌 Next departures from München Hauptbahnhof:\n",
      "\n"
     ]
    },
    {
     "data": {
      "text/html": [
       "<div>\n",
       "<style scoped>\n",
       "    .dataframe tbody tr th:only-of-type {\n",
       "        vertical-align: middle;\n",
       "    }\n",
       "\n",
       "    .dataframe tbody tr th {\n",
       "        vertical-align: top;\n",
       "    }\n",
       "\n",
       "    .dataframe thead th {\n",
       "        text-align: right;\n",
       "    }\n",
       "</style>\n",
       "<table border=\"1\" class=\"dataframe\">\n",
       "  <thead>\n",
       "    <tr style=\"text-align: right;\">\n",
       "      <th></th>\n",
       "      <th>Time</th>\n",
       "      <th>Mode</th>\n",
       "      <th>Route</th>\n",
       "      <th>Destination</th>\n",
       "      <th>Cancelled</th>\n",
       "    </tr>\n",
       "  </thead>\n",
       "  <tbody>\n",
       "    <tr>\n",
       "      <th>0</th>\n",
       "      <td>04:54</td>\n",
       "      <td>REGIONAL_FAST_RAIL</td>\n",
       "      <td>D99</td>\n",
       "      <td>Zürich HB</td>\n",
       "      <td>No</td>\n",
       "    </tr>\n",
       "    <tr>\n",
       "      <th>1</th>\n",
       "      <td>05:22</td>\n",
       "      <td>REGIONAL_FAST_RAIL</td>\n",
       "      <td>RJX 61</td>\n",
       "      <td>Budapest-Keleti</td>\n",
       "      <td>No</td>\n",
       "    </tr>\n",
       "    <tr>\n",
       "      <th>2</th>\n",
       "      <td>05:28</td>\n",
       "      <td>REGIONAL_FAST_RAIL</td>\n",
       "      <td>NJ 40491</td>\n",
       "      <td>Innsbruck Hauptbahnhof</td>\n",
       "      <td>No</td>\n",
       "    </tr>\n",
       "    <tr>\n",
       "      <th>3</th>\n",
       "      <td>05:28</td>\n",
       "      <td>REGIONAL_FAST_RAIL</td>\n",
       "      <td>NJ 421</td>\n",
       "      <td>Innsbruck Hauptbahnhof</td>\n",
       "      <td>No</td>\n",
       "    </tr>\n",
       "    <tr>\n",
       "      <th>4</th>\n",
       "      <td>05:49</td>\n",
       "      <td>REGIONAL_FAST_RAIL</td>\n",
       "      <td>WB 961</td>\n",
       "      <td>Wien Westbahnhof</td>\n",
       "      <td>No</td>\n",
       "    </tr>\n",
       "  </tbody>\n",
       "</table>\n",
       "</div>"
      ],
      "text/plain": [
       "    Time                Mode     Route             Destination Cancelled\n",
       "0  04:54  REGIONAL_FAST_RAIL       D99               Zürich HB        No\n",
       "1  05:22  REGIONAL_FAST_RAIL    RJX 61         Budapest-Keleti        No\n",
       "2  05:28  REGIONAL_FAST_RAIL  NJ 40491  Innsbruck Hauptbahnhof        No\n",
       "3  05:28  REGIONAL_FAST_RAIL    NJ 421  Innsbruck Hauptbahnhof        No\n",
       "4  05:49  REGIONAL_FAST_RAIL    WB 961        Wien Westbahnhof        No"
      ]
     },
     "metadata": {},
     "output_type": "display_data"
    }
   ],
   "source": [
    "# 🕒 Get next departures from München Hbf\n",
    "stop_times = get_stoptimes(stop_id=from_stop['id'], n=5, arrive_by=False)\n",
    "\n",
    "if stop_times and 'stopTimes' in stop_times:\n",
    "    df = pd.DataFrame([\n",
    "        {\n",
    "            'Time': datetime.fromisoformat(st['place']['departure'].replace(\"Z\", \"+00:00\")).strftime(\"%H:%M\"),\n",
    "            'Mode': st['mode'],\n",
    "            'Route': st.get('routeShortName', 'N/A'),\n",
    "            'Destination': st['headsign'],\n",
    "            'Cancelled': \"Yes\" if st.get('cancelled', False) else \"No\"\n",
    "        }\n",
    "        for st in stop_times['stopTimes']\n",
    "    ])\n",
    "    print(f\"🚌 Next departures from {from_stop['name']}:\\n\")\n",
    "    display(df)\n",
    "else:\n",
    "    print(\"No departure data available.\")"
   ]
  },
  {
   "cell_type": "markdown",
   "id": "8a48c309",
   "metadata": {},
   "source": [
    "## 7. View Routes on Map Area\n",
    "\n",
    "Fetch all trips operating in a general area around the destination."
   ]
  },
  {
   "cell_type": "code",
   "execution_count": 10,
   "id": "81f10f80",
   "metadata": {},
   "outputs": [
    {
     "name": "stdout",
     "output_type": "stream",
     "text": [
      "No trips found in area.\n"
     ]
    }
   ],
   "source": [
    "# 🗺️ Get trips in the area around Olympiazentrum\n",
    "buffer = 0.01  # ~1km around\n",
    "min_lat_lon = f\"{to_stop['lat'] - buffer},{to_stop['lon'] - buffer}\"\n",
    "max_lat_lon = f\"{to_stop['lat'] + buffer},{to_stop['lon'] + buffer}\"\n",
    "\n",
    "trips_in_area = get_trips_in_area(\n",
    "    min_lat_lon=min_lat_lon,\n",
    "    max_lat_lon=max_lat_lon,\n",
    "    zoom=15\n",
    ")\n",
    "\n",
    "if trips_in_area:\n",
    "    print(f\"📍 Trips operating near {to_stop['name']}:\\n\")\n",
    "    for trip_group in trips_in_area:\n",
    "        mode = trip_group['mode']\n",
    "        route_color = trip_group.get('routeColor', 'N/A')\n",
    "        trips = [t['routeShortName'] for t in trip_group['trips']]\n",
    "        print(f\"- {mode} (color: {route_color}): {', '.join(trips)}\")\n",
    "else:\n",
    "    print(\"No trips found in area.\")"
   ]
  },
  {
   "cell_type": "markdown",
   "id": "1c691f46",
   "metadata": {},
   "source": [
    "## 8. Reverse Geocode Example\n",
    "\n",
    "Get place information from coordinates directly."
   ]
  },
  {
   "cell_type": "code",
   "execution_count": 11,
   "id": "30b19ca7",
   "metadata": {},
   "outputs": [
    {
     "name": "stdout",
     "output_type": "stream",
     "text": [
      "❌ Reverse geocode failed: 500 - {\"error\":\"enum LocationTypeEnum: unknown value STOP,ADDRESS\"}\n",
      "No reverse geocode result.\n"
     ]
    }
   ],
   "source": [
    "# 📍 Reverse geocode Olympiazentrum's coordinates\n",
    "rev = reverse_geocode(to_stop['lat'], to_stop['lon'], type=\"STOP,ADDRESS\")\n",
    "\n",
    "if rev:\n",
    "    print(f\"Reverse geocode result:\\n\")\n",
    "    for match in rev[:3]:  # Show top 3 results\n",
    "        print(f\"- {match['name']} ({match['type']}) @ {match['lat']:.4f},{match['lon']:.4f}\")\n",
    "else:\n",
    "    print(\"No reverse geocode result.\")"
   ]
  },
  {
   "cell_type": "markdown",
   "id": "70cea9e7",
   "metadata": {},
   "source": [
    "## Summary\n",
    "\n",
    "This notebook demonstrated how to:\n",
    "\n",
    "✅ Geocode place names to coordinates\n",
    "\n",
    "✅ Find multimodal connections between two points using `/api/v3/plan`\n",
    "\n",
    "✅ Display itineraries in a readable format\n",
    "\n",
    "✅ Fetch real-time stoptimes for a station\n",
    "\n",
    "✅ Explore all trips in a geographic bounding box\n",
    "\n",
    "✅ Reverse geocode coordinates\n",
    "\n",
    "You can extend this to support bike routing, wheelchair accessibility, fare calculation, and more by adjusting the request parameters.\n",
    "\n",
    "### Useful Parameters to Explore Next\n",
    "- `requireBikeTransport=true`\n",
    "- `pedestrianProfile=WHEELCHAIR`\n",
    "- `transitModes=SUBWAY,BUS`\n",
    "- `withFares=true`\n",
    "- `via=stopId1,stopId2`\n",
    "\n",
    "### Resources\n",
    "- **MOTIS GitHub**: [https://github.com/motis-project/motis](https://github.com/motis-project/motis)\n",
    "- **API Docs**: [https://redocly.com/redoc/](https://redocly.com/redoc/)\n",
    "- **OpenAPI Spec**: [https://raw.githubusercontent.com/motis-project/motis/master/openapi.yaml](https://raw.githubusercontent.com/motis-project/motis/master/openapi.yaml)\n",
    "\n",
    "**Note**: If you're running locally, ensure MOTIS is running on `localhost:8080` with GTFS data loaded.\n",
    "\n",
    "Happy routing! 🚇🚌🚶‍♂️"
   ]
  }
 ],
 "metadata": {
  "kernelspec": {
   "display_name": "tree-sitter-env",
   "language": "python",
   "name": "python3"
  },
  "language_info": {
   "codemirror_mode": {
    "name": "ipython",
    "version": 3
   },
   "file_extension": ".py",
   "mimetype": "text/x-python",
   "name": "python",
   "nbconvert_exporter": "python",
   "pygments_lexer": "ipython3",
   "version": "3.12.3"
  }
 },
 "nbformat": 4,
 "nbformat_minor": 5
}
