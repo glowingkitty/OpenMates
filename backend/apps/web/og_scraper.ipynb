{
 "cells": [
  {
   "cell_type": "markdown",
   "metadata": {},
   "source": [
    "# Extract Open Graph (OG) Metadata from a Website\n",
    "\n",
    "This notebook shows how to fetch and parse Open Graph (OG) metadata (such as title, description, image, etc.) from a given website using Python."
   ]
  },
  {
   "cell_type": "code",
   "execution_count": null,
   "id": "16abecaa",
   "metadata": {},
   "outputs": [],
   "source": [
    "!pip install bs4"
   ]
  },
  {
   "cell_type": "code",
   "execution_count": 5,
   "metadata": {},
   "outputs": [],
   "source": [
    "import requests\n",
    "from bs4 import BeautifulSoup\n",
    "\n",
    "def get_open_graph_data(url: str) -> dict:\n",
    "    \"\"\"Fetch OG metadata from a webpage.\"\"\"\n",
    "    headers = {\"User-Agent\": \"Mozilla/5.0\"}  # prevent blocking\n",
    "    resp = requests.get(url, headers=headers, timeout=10)\n",
    "    resp.raise_for_status()\n",
    "\n",
    "    # Use html.parser as fallback if lxml isn't available\n",
    "    soup = BeautifulSoup(resp.text, \"html.parser\")  # Changed from \"lxml\" to \"html.parser\"\n",
    "    og_data = {}\n",
    "\n",
    "    # Extract OG tags\n",
    "    for tag in soup.find_all(\"meta\"):\n",
    "        if tag.get(\"property\", \"\").startswith(\"og:\"):\n",
    "            og_data[tag[\"property\"][3:]] = tag.get(\"content\", \"\")\n",
    "    \n",
    "    return og_data\n"
   ]
  },
  {
   "cell_type": "code",
   "execution_count": null,
   "metadata": {},
   "outputs": [
    {
     "data": {
      "text/plain": [
       "{'url': 'https://www.imdb.com/title/tt4154796/',\n",
       " 'site_name': 'IMDb',\n",
       " 'title': 'Avengers: Endgame (2019) ⭐ 8.4 | Action, Adventure, Sci-Fi',\n",
       " 'description': '3h 1m | K-12',\n",
       " 'type': 'video.movie',\n",
       " 'image': 'https://m.media-amazon.com/images/M/MV5BMTc5MDE2ODcwNV5BMl5BanBnXkFtZTgwMzI2NzQ2NzM@._V1_FMjpg_UX1000_.jpg',\n",
       " 'image:height': '1481.9102749638205',\n",
       " 'image:width': '1000',\n",
       " 'locale': 'en_US',\n",
       " 'locale:alternate': 'de_DE'}"
      ]
     },
     "execution_count": 8,
     "metadata": {},
     "output_type": "execute_result"
    }
   ],
   "source": [
    "# Example usage\n",
    "url = \"https://www.imdb.com/title/tt4154796/\"  # Avengers: Endgame\n",
    "og_data = get_open_graph_data(url)\n",
    "og_data"
   ]
  }
 ],
 "metadata": {
  "kernelspec": {
   "display_name": "tree-sitter-env",
   "language": "python",
   "name": "python3"
  },
  "language_info": {
   "codemirror_mode": {
    "name": "ipython",
    "version": 3
   },
   "file_extension": ".py",
   "mimetype": "text/x-python",
   "name": "python",
   "nbconvert_exporter": "python",
   "pygments_lexer": "ipython3",
   "version": "3.12.3"
  }
 },
 "nbformat": 4,
 "nbformat_minor": 5
}
