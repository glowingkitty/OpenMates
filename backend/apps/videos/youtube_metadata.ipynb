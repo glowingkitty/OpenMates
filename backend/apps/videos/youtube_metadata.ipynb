{
  "cells": [
    {
      "cell_type": "markdown",
      "metadata": {},
      "source": [
        "# YouTube Video Metadata Extractor from Markdown\n",
        "\n",
        "Workflow:\n",
        "- Install dependencies\n",
        "- Load API key from `.env`\n",
        "- Extract YouTube video IDs from Markdown\n",
        "- Fetch metadata via YouTube Data API\n",
        "- Cache results\n",
        "- Prepare data for Svelte rendering"
      ]
    },
    {
      "cell_type": "markdown",
      "metadata": {},
      "source": [
        "## 🛠️ Install Required Packages"
      ]
    },
    {
      "cell_type": "code",
      "execution_count": null,
      "metadata": {
        "collapsed": false
      },
      "outputs": [],
      "source": [
        "# Run this once to install dependencies\n",
        "!pip install isodate python-dotenv"
      ]
    },
    {
      "cell_type": "markdown",
      "metadata": {},
      "source": [
        "## 🔐 Load Environment Variables (e.g., API Key)"
      ]
    },
    {
      "cell_type": "code",
      "execution_count": 3,
      "metadata": {
        "collapsed": false
      },
      "outputs": [
        {
          "name": "stdout",
          "output_type": "stream",
          "text": [
            "YouTube API key loaded successfully.\n"
          ]
        }
      ],
      "source": [
        "from dotenv import load_dotenv\n",
        "import os\n",
        "\n",
        "# Load environment variables from .env file\n",
        "load_dotenv()\n",
        "\n",
        "YOUTUBE_API_KEY = os.getenv(\"SECRET__GOOGLE__YOUTUBE__API_KEY\")\n",
        "\n",
        "if not YOUTUBE_API_KEY:\n",
        "    raise EnvironmentError(\"YOUTUBE_API_KEY is missing in .env file\")\n",
        "\n",
        "print(\"YouTube API key loaded successfully.\")"
      ]
    },
    {
      "cell_type": "markdown",
      "metadata": {},
      "source": [
        "## Step 1: Extract YouTube URLs from Markdown"
      ]
    },
    {
      "cell_type": "code",
      "execution_count": 5,
      "metadata": {
        "collapsed": false
      },
      "outputs": [
        {
          "name": "stdout",
          "output_type": "stream",
          "text": [
            "Extracted Video IDs: ['9S_ETzbAMfg']\n"
          ]
        }
      ],
      "source": [
        "import re\n",
        "import requests\n",
        "import json\n",
        "from datetime import datetime, timedelta\n",
        "from typing import List, Dict, Optional\n",
        "import isodate\n",
        "\n",
        "def extract_youtube_urls_from_markdown(markdown: str) -> List[str]:\n",
        "    \"\"\"\n",
        "    Extract all YouTube video IDs from Markdown text.\n",
        "    Supports: youtu.be/... and youtube.com/watch?v=...\n",
        "    \"\"\"\n",
        "    youtube_regex = r\"(?:https?://)?(?:www\\.)?(?:youtube\\.com/watch\\?v=|youtu\\.be/)([\\w-]{11})\"\n",
        "    matches = re.findall(youtube_regex, markdown)\n",
        "    return list(set(matches))  # Remove duplicates\n",
        "\n",
        "# Example Markdown\n",
        "markdown_content = '''\n",
        "Summarize & analyze this video:\n",
        "https://www.youtube.com/watch?v=9S_ETzbAMfg\n",
        "'''\n",
        "\n",
        "video_ids = extract_youtube_urls_from_markdown(markdown_content)\n",
        "print(\"Extracted Video IDs:\", video_ids)"
      ]
    },
    {
      "cell_type": "markdown",
      "metadata": {},
      "source": [
        "## Step 2: Parse ISO 8601 Duration (e.g., PT4M30S → 4:30)"
      ]
    },
    {
      "cell_type": "code",
      "execution_count": 10,
      "metadata": {
        "collapsed": false
      },
      "outputs": [
        {
          "name": "stdout",
          "output_type": "stream",
          "text": [
            "3:45\n"
          ]
        }
      ],
      "source": [
        "def parse_iso_duration(iso_duration: str) -> str:\n",
        "    \"\"\"\n",
        "    Convert ISO 8601 duration (e.g., PT5M20S) to MM:SS format.\n",
        "    \"\"\"\n",
        "    try:\n",
        "        duration = isodate.parse_duration(iso_duration)\n",
        "        total_seconds = int(duration.total_seconds())\n",
        "        minutes = total_seconds // 60\n",
        "        seconds = total_seconds % 60\n",
        "        return f\"{minutes}:{seconds:02d}\"\n",
        "    except Exception as e:\n",
        "        return \"?:??\"\n",
        "\n",
        "# Test\n",
        "print(parse_iso_duration(\"PT3M45S\"))"
      ]
    },
    {
      "cell_type": "markdown",
      "metadata": {},
      "source": [
        "## Step 3: Fetch Metadata Using YouTube API (with Cache)"
      ]
    },
    {
      "cell_type": "code",
      "execution_count": 15,
      "metadata": {
        "collapsed": false
      },
      "outputs": [
        {
          "name": "stdout",
          "output_type": "stream",
          "text": [
            "[API] Fetching metadata for dQw4w9WgXcQ\n",
            "{\n",
            "  \"video_id\": \"dQw4w9WgXcQ\",\n",
            "  \"title\": \"Rick Astley - Never Gonna Give You Up (Official Video) (4K Remaster)\",\n",
            "  \"thumbnail_url\": \"https://i.ytimg.com/vi/dQw4w9WgXcQ/hqdefault.jpg\",\n",
            "  \"duration\": \"3:34\",\n",
            "  \"published_at\": \"2009-10-25T06:57:33Z\"\n",
            "}\n"
          ]
        },
        {
          "name": "stderr",
          "output_type": "stream",
          "text": [
            "/tmp/ipykernel_3992209/676660463.py:6: DeprecationWarning: datetime.datetime.utcnow() is deprecated and scheduled for removal in a future version. Use timezone-aware objects to represent datetimes in UTC: datetime.datetime.now(datetime.UTC).\n",
            "  now = datetime.utcnow()\n"
          ]
        }
      ],
      "source": [
        "# Global cache\n",
        "cache = {}\n",
        "CACHE_TTL_HOURS = 24  # Cache for 24 hours\n",
        "\n",
        "def fetch_youtube_metadata(video_id: str) -> Optional[Dict]:\n",
        "    now = datetime.utcnow()\n",
        "\n",
        "    # Check cache\n",
        "    if video_id in cache:\n",
        "        cached = cache[video_id]\n",
        "        if now < cached['expires']:\n",
        "            print(f\"[Cache] Found metadata for {video_id}\")\n",
        "            return cached['data']\n",
        "\n",
        "    print(f\"[API] Fetching metadata for {video_id}\")\n",
        "    \n",
        "    url = \"https://www.googleapis.com/youtube/v3/videos\"\n",
        "    params = {\n",
        "        'key': YOUTUBE_API_KEY,\n",
        "        'id': video_id,\n",
        "        'part': 'snippet,contentDetails'\n",
        "    }\n",
        "\n",
        "    response = requests.get(url, params=params)\n",
        "    \n",
        "    if response.status_code != 200:\n",
        "        print(f\"Error {response.status_code}: {response.text}\")\n",
        "        return None\n",
        "\n",
        "    data = response.json()\n",
        "    \n",
        "    if not data.get('items'):\n",
        "        print(f\"No video found for ID: {video_id}\")\n",
        "        return None\n",
        "\n",
        "    item = data['items'][0]\n",
        "    snippet = item['snippet']\n",
        "    details = item['contentDetails']\n",
        "\n",
        "    metadata = {\n",
        "        'video_id': video_id,\n",
        "        'title': snippet['title'],\n",
        "        'thumbnail_url': snippet['thumbnails']['high']['url'],\n",
        "        'duration': parse_iso_duration(details['duration']),\n",
        "        'published_at': snippet['publishedAt']\n",
        "    }\n",
        "\n",
        "    # Store in cache\n",
        "    expires = now + timedelta(hours=CACHE_TTL_HOURS)\n",
        "    cache[video_id] = {\n",
        "        'data': metadata,\n",
        "        'expires': expires\n",
        "    }\n",
        "\n",
        "    return metadata\n",
        "\n",
        "# Test\n",
        "metadata = fetch_youtube_metadata(\"dQw4w9WgXcQ\")\n",
        "if metadata:\n",
        "    print(json.dumps(metadata, indent=2))"
      ]
    },
    {
      "cell_type": "markdown",
      "metadata": {},
      "source": [
        "## Step 4: Process All Videos in Markdown"
      ]
    },
    {
      "cell_type": "code",
      "execution_count": 12,
      "metadata": {
        "collapsed": false
      },
      "outputs": [
        {
          "name": "stdout",
          "output_type": "stream",
          "text": [
            "[API] Fetching metadata for 9S_ETzbAMfg\n",
            "Video Cards for Svelte Rendering:\n",
            "- China Reveals New Moon Lander [9:42] → https://i.ytimg.com/vi/9S_ETzbAMfg/hqdefault.jpg\n"
          ]
        },
        {
          "name": "stderr",
          "output_type": "stream",
          "text": [
            "/tmp/ipykernel_3992209/676660463.py:6: DeprecationWarning: datetime.datetime.utcnow() is deprecated and scheduled for removal in a future version. Use timezone-aware objects to represent datetimes in UTC: datetime.datetime.now(datetime.UTC).\n",
            "  now = datetime.utcnow()\n"
          ]
        }
      ],
      "source": [
        "def process_markdown_videos(markdown: str) -> List[Dict]:\n",
        "    video_ids = extract_youtube_urls_from_markdown(markdown)\n",
        "    results = []\n",
        "    for vid in video_ids:\n",
        "        meta = fetch_youtube_metadata(vid)\n",
        "        if meta:\n",
        "            results.append(meta)\n",
        "    return results\n",
        "\n",
        "video_cards = process_markdown_videos(markdown_content)\n",
        "\n",
        "print(\"Video Cards for Svelte Rendering:\")\n",
        "for card in video_cards:\n",
        "    print(f\"- {card['title']} [{card['duration']}] → {card['thumbnail_url']}\")"
      ]
    },
    {
      "cell_type": "markdown",
      "metadata": {},
      "source": [
        "## Step 5: Output for Svelte Component"
      ]
    },
    {
      "cell_type": "code",
      "execution_count": 13,
      "metadata": {
        "collapsed": false
      },
      "outputs": [
        {
          "name": "stdout",
          "output_type": "stream",
          "text": [
            "{\n",
            "  \"youtubeCards\": [\n",
            "    {\n",
            "      \"video_id\": \"9S_ETzbAMfg\",\n",
            "      \"title\": \"China Reveals New Moon Lander\",\n",
            "      \"thumbnail_url\": \"https://i.ytimg.com/vi/9S_ETzbAMfg/hqdefault.jpg\",\n",
            "      \"duration\": \"9:42\",\n",
            "      \"published_at\": \"2025-08-13T19:00:08Z\"\n",
            "    }\n",
            "  ]\n",
            "}\n"
          ]
        }
      ],
      "source": [
        "# Final data structure to pass to Svelte\n",
        "svelte_data = {\n",
        "    \"youtubeCards\": video_cards\n",
        "}\n",
        "\n",
        "print(json.dumps(svelte_data, indent=2))"
      ]
    },
    {
      "cell_type": "markdown",
      "metadata": {},
      "source": [
        "## 🧩 Next Steps\n",
        "\n",
        "- Move logic to SvelteKit server route (`+server.ts`)\n",
        "- Use `$env/static/private` to access `YOUTUBE_API_KEY` on server\n",
        "- In Svelte: `{#each youtubeCards as card}` to render previews\n",
        "- Add error fallbacks and loading states\n",
        "- Consider batch fetching for performance"
      ]
    }
  ],
  "metadata": {
    "kernelspec": {
      "display_name": "tree-sitter-env",
      "language": "python",
      "name": "python3"
    },
    "language_info": {
      "codemirror_mode": {
        "name": "ipython",
        "version": 3
      },
      "file_extension": ".py",
      "mimetype": "text/x-python",
      "name": "python",
      "nbconvert_exporter": "python",
      "pygments_lexer": "ipython3",
      "version": "3.12.3"
    },
    "orig_nbformat": 4
  },
  "nbformat": 4,
  "nbformat_minor": 4
}
