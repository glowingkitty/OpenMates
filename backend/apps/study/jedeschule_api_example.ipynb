{
  "cells": [
    {
      "cell_type": "markdown",
      "id": "7e6118a9",
      "metadata": {},
      "source": [
        "# Jedeschule API Notebook\n",
        "\n",
        "This notebook demonstrates how to use the [jedeschule-api](https://github.com/codeforberlin/jedeschule-api) to query information about German schools.\n",
        "\n",
        "**First, we install required dependencies.**"
      ]
    },
    {
      "cell_type": "code",
      "execution_count": null,
      "id": "04c8a31f",
      "metadata": {},
      "outputs": [],
      "source": [
        "# Install required packages (run this once in fresh environments)\n",
        "!pip install requests pandas matplotlib"
      ]
    },
    {
      "cell_type": "code",
      "execution_count": 7,
      "id": "4aaf6118",
      "metadata": {},
      "outputs": [],
      "source": [
        "# Import required libraries\n",
        "import requests\n",
        "import pandas as pd\n",
        "import matplotlib.pyplot as plt\n",
        "%matplotlib inline\n",
        "\n",
        "# Set base API URL to a working deployment\n",
        "BASE_URL = \"https://jedeschule.codefor.de\""
      ]
    },
    {
      "cell_type": "markdown",
      "id": "dcf77bc6",
      "metadata": {},
      "source": [
        "## 1. Get Available Filter Parameters"
      ]
    },
    {
      "cell_type": "code",
      "execution_count": 8,
      "id": "4fb44c40",
      "metadata": {},
      "outputs": [
        {
          "name": "stdout",
          "output_type": "stream",
          "text": [
            "Available States (ISO codes): ['HH', 'BB', 'HB', 'NI', 'HE', 'BE', 'NW', 'BW', 'BY', 'SN', 'SL', 'RP', 'ST', 'MV', 'TH', 'SH']\n",
            "\n",
            "Available School Types: ['Bischöfliche Realschule des Bistums Trier', 'OSZ mit beruflichem Gymnasium', 'Berufsfachschule', 'Grundschule mit schulartunabhängiger Orientierungsstufe', 'Mittelschulen', 'Berufliche Gymnasien|Berufsfachschule|Berufsschule|Berufsvorbereitungsschule|Fachoberschule', 'Schule mit dem Förderschwerpunkt emotionale und soziale Entwicklung', 'Gemeinschaftsschule ;\\xa0\\t\\t\\t\\t\\t\\t\\t\\t\\t\\t Förderzentrum ;\\xa0\\t\\t\\t\\t\\t\\t\\t\\t\\t\\t Gymnasium ;\\xa0\\t\\t\\t\\t\\t\\t\\t\\t\\t\\t Hauptschule ;\\xa0\\t\\t\\t\\t\\t\\t\\t\\t\\t\\t Realschule ;', 'Regelschule in freier Trägerschaft', 'Kooperative Gesamtschule mit Mittelstufenschule', 'Freie Waldorfförderschule', 'Berufsvorbereitungsschule (allg. bild.)', 'Grund-, Haupt- und Realschule', 'Waldorfschule für Lern- und Erziehungshilfe', 'Berufliche Gymnasien|Berufsfachschule|Berufsschule|Berufsvorbereitungsschule', 'Dependance Kirrberg der Grundschule Sonnenfeld', 'Schule mit dem Förderschwerpunkt Hören', 'Grundschhule', 'Berufsbildende Förderschule', 'Kombinierte allg./berufl. Schule', 'Berufsfachschule|Berufsoberschule|Berufsschule|Berufsvorbereitungsschule|Fachoberschule', 'Berufliche Schule', 'Förderschwerp. \"Geistige Entwicklung\"', 'Realschule plus', 'Gymnasium mit Grundschule und schulartunabhängiger Orientierungsstufe', 'Schule mit dem sonderpäd. Schwerpunkt Lernen', 'Fachoberschulen', 'Freie Trägerschaft ;\\xa0\\t\\t\\t\\t\\t\\t\\t\\t\\t\\t Grundschule ;\\xa0\\t\\t\\t\\t\\t\\t\\t\\t\\t\\t Gymnasium ;\\xa0\\t\\t\\t\\t\\t\\t\\t\\t\\t\\t Regionalschule ;\\xa0\\t\\t\\t\\t\\t\\t\\t\\t\\t\\t Hauptschule ;\\xa0\\t\\t\\t\\t\\t\\t\\t\\t\\t\\t Realschule ;\\xa0\\t\\t\\t\\t\\t\\t\\t\\t\\t\\t  ;', 'Kooperative Gesamtschule mit Grundschule', 'Berufliches Gymnasium', 'Grund- und Realschule', 'Grundschule ;\\xa0\\t\\t\\t\\t\\t\\t\\t\\t\\t\\t Förderzentrum ;', 'Sonderschule|Vorschulklasse', 'Gesamtschule mit GOST', 'Freie Trägerschaft ;\\xa0\\t\\t\\t\\t\\t\\t\\t\\t\\t\\t  ;', 'Studienseminar Grund-, Haupt-, Real- und Sonderschulen', 'Förderschule Sprache Sulzbach Neuweiler', 'Dependance Grundschule Eiweiler', 'Gewerbliche Fachschulen', 'Gymnasium mit Regionaler Schule und Grundschule', 'Schule mit dem sonderpäd. Förderschwerpunkt Hören', 'Kaufmännische Berufsfachschulen', 'Schule mit dem sonderpäd. Förderschwerpunkt Sehen', 'Schule mit dem Förderschwerpunkt Sprache', 'Gemeinschaftsschule ;\\xa0\\t\\t\\t\\t\\t\\t\\t\\t\\t\\t Grundschule ;\\xa0\\t\\t\\t\\t\\t\\t\\t\\t\\t\\t Gymnasium ;\\xa0\\t\\t\\t\\t\\t\\t\\t\\t\\t\\t Hauptschule ;\\xa0\\t\\t\\t\\t\\t\\t\\t\\t\\t\\t Realschule ;', 'Kolleg', 'Gesamtschule', 'Schulischer Lernort', 'Grundschule Konfeld,Standort Thailen', 'Fachoberschule', 'Berufsschulen zur sonderpädog. Förderung', 'Grundschule in freier Trägerschaft', 'Kooperative Gesamtschule ', 'Kombinierte berufliche Schule', 'Berufsoberschule|Berufsschule|Berufsvorbereitungsschule|Fachoberschule|Fachschule', 'Klinikschule', 'Berufsbildende Schule in freier Trägerschaft', 'Fachschule', 'Freie Waldorfschule', 'Grundschule mit Förderstufe', 'Schule mit dem sonderpäd. Förderschwerpunkt körperliche und motorische Entwicklung', 'Seminar Berufskolleg', 'Berufsfachs. f. Hauswirtschaft u. Sozialberufe', 'Dependance, Pestalozzischule Hassel Grundschule', 'Schulen besonderer Art', 'Kollegs', 'Volksschule', 'Grund- und Hauptschule', 'Sonstige Förderschule', 'Gymnasium', 'Förderzentrum ;\\xa0\\t\\t\\t\\t\\t\\t\\t\\t\\t\\t Grundschule ;', 'Berufsbildende Schule', 'Abend-Gymnasium', 'Seminar Haupt-, Real- und Gesamtschulen', 'Dependance GS Aßweiler Grundschule', 'Integrative Gesamt- und Grundschule', 'Doppeltqualifizierender Bildungsgang|Stadtteilschule', 'Realschule', 'Schule mit dem Förderschwerpunkt Sehen', 'Berufsfachschulen f. Fremdsprachenberufe', 'Kooperative Gesamtschule', 'Schulformübergreifende (integrierte) Gesamtschule', 'Grund- und Realschule plus (org. verbunden)', 'Volkshochschule', 'Hauswirtschaftliche Fachschulen', 'Realschule plus mit Fachoberschule', 'Private staatlich anerkannte Realschule der St. Dominikus gGmbH', 'Abendoberschule', 'ZfsL', 'Oberschule mit Grundschule', 'Grundschule ;\\xa0\\t\\t\\t\\t\\t\\t\\t\\t\\t\\t Freie Trägerschaft ;', 'Berufsfachschule|Berufsschule|Berufsvorbereitungsschule|Fachoberschule|Fachschule', 'Berufsschule|Berufsvorbereitungsschule', 'Berufsfachschule|Berufsschule|Berufsvorbereitungsschule', 'Übrige Förderschwerpunkte', 'Abendgymnasium', 'Kolleg und Abendgymnasium (org.verbunden)', 'Gymnasium ;\\xa0\\t\\t\\t\\t\\t\\t\\t\\t\\t\\t Grundschule ;\\xa0\\t\\t\\t\\t\\t\\t\\t\\t\\t\\t Gemeinschaftsschule ;\\xa0\\t\\t\\t\\t\\t\\t\\t\\t\\t\\t Hauptschule ;\\xa0\\t\\t\\t\\t\\t\\t\\t\\t\\t\\t Realschule ;', 'Förderschule soziale Entwicklung', 'Freiwillige Ganztagsschule', 'Studienseminare', 'Förderschule im Bereich des Gymnasiums', 'Grundschule Nunkirchen Dep. Bardenbach', 'ZBW an VHS und anderen Schulformen', 'Staatliches Schulamt', 'Weiterbildungskolleg', 'Kombinierte allgemein bildende Schule', 'Sonstige Dienststelle', 'Grund- und Hauptschule (org. verbunden)', 'Thür. Gemeinschaftsschule in freier Trägerschaft', 'Gymnasium mit schulartunabhängiger Orientierungsstufe (z.B. auch Musikgymnasien und Gymnasien für hochbegabte Schülerinnen und Schüler)', 'Erweiterte Realschule', 'Fachakademien für Landwirtschaft', 'Förderschule in freier Trägerschaft', 'Grundschule ;\\xa0\\t\\t\\t\\t\\t\\t\\t\\t\\t\\t Hauptschule ;\\xa0\\t\\t\\t\\t\\t\\t\\t\\t\\t\\t Grund und Hauptschule ;\\xa0\\t\\t\\t\\t\\t\\t\\t\\t\\t\\t Realschule ;', 'Berufsschule mit sonderpäd. Aufgaben', 'Gemeinschaftsschule ;\\xa0\\t\\t\\t\\t\\t\\t\\t\\t\\t\\t Hauptschule ;\\xa0\\t\\t\\t\\t\\t\\t\\t\\t\\t\\t Realschule ;', 'Sekundarschule', 'Schule des ZBW', 'Grund und Hauptschule', 'Förderschule Johann-Hinrich-Wichern Schule', 'Oberschule mit gymnasialem Angebot', 'Gemeinschaftsschule ;\\xa0\\t\\t\\t\\t\\t\\t\\t\\t\\t\\t Grundschule ;\\xa0\\t\\t\\t\\t\\t\\t\\t\\t\\t\\t Förderzentrum ;\\xa0\\t\\t\\t\\t\\t\\t\\t\\t\\t\\t Hauptschule ;\\xa0\\t\\t\\t\\t\\t\\t\\t\\t\\t\\t Realschule ;', 'Berufsfachschule|Berufsschule|Berufsvorbereitungsschule|Fachoberschule', 'Gymnasium in freier Trägerschaft', 'Berufsfachschule|Berufsoberschule|Berufsschule|Berufsvorbereitungsschule', 'Hauptschule', 'Grund- und Oberschule', 'Förderzentren', 'Ergänzungsschule in freier Trägerschaft', 'Grundschule|Stadtteilschule|vorschulische Sprachförderung|Vorschulklasse', 'Lyzeum', 'Waldorfschule', 'Regionale Schule mit Grundschule', 'Studienseminar Gymnasien', 'Förderzentrum', 'Realschulen', 'Berufliche Schule in freier Trägerschaft', 'Gemeinschaftsschule ;\\xa0\\t\\t\\t\\t\\t\\t\\t\\t\\t\\t Gymnasium ;\\xa0\\t\\t\\t\\t\\t\\t\\t\\t\\t\\t Hauptschule ;\\xa0\\t\\t\\t\\t\\t\\t\\t\\t\\t\\t Realschule ;', 'Gesamtschule mit Grundschule und GOST', 'Allgemeine Dienststelle', 'Gemeinschaftsschule', 'Haupt- und Realschule', 'Gymnasium mit Regionaler Schule (z.B. auch Sportgymnasien)', 'Freie Trägerschaft ;\\xa0\\t\\t\\t\\t\\t\\t\\t\\t\\t\\t Grundschule ;\\xa0\\t\\t\\t\\t\\t\\t\\t\\t\\t\\t  ;', 'Seminar Gymnasien und Gesamtschulen', 'Schule mit dem Förderschwerpunkt geistige Entwicklung', 'Berufliche Schule in fr. Trägerschaft mit Beruflichem Gymnasium', 'Integrierte Gesamtschule mit Grundschule ', 'Musikschule', 'Schule für Kranke', 'Berufsfachschule|Berufsoberschule|Berufsvorbereitungsschule|Fachschule', 'Primus (Schulversuch)', 'Berufsfachschule|Berufsschule|Berufsvorbereitungsschule|Fachschule', 'Abendgymnasium|Abendschule|Hansa-Kolleg', 'OSZ', 'Kaufmännische Fachschulen', 'Landwirtschaftliche Fachschulen', 'Haupt- und Förderschule', 'Grundschule|Gymnasium|Vorschulklasse', 'Freie Trägerschaft', 'Grund- und Förderschule', 'Grundschule|Sonderschule|Stadtteilschule|Vorschulklasse', 'Integrierte Gesamtschule', 'Grundschule', 'Förderschwerp. \"Lernen\"', 'Förderschule', 'BEA', 'Dependance Grundschule Rilchingen Hanweiler', 'Schulaufsicht', 'Gymnasiale Oberstufenschule', 'Gewerbliche Berufsfachschulen', 'Freiwillige Ganztagsschule Grundschule Bergstraße/ Röchlinghöhe', 'Dependance Grundschule Ludweiler/Lauterbach', 'Berufsfachschule|Fachschule', '', 'Förderschule im Bereich der Realschule', 'Dependance Schlossbergschule,Grundschule', 'Gymnasium (Mittel- und Oberstufe)', 'Berufliche Gymnasien|Berufsfachschule|Berufsvorbereitungsschule|Fachschule', 'Hiberniaschule', 'Schule mit dem Förderschwerpunkt Lernen', 'Berufliche Gymnasien|Berufsfachschule|Berufsschule|Berufsvorbereitungsschule|Fachoberschule|Fachschule', 'Förderschwerp. einschl. beruflichem Teil', 'Berufsfachschulen des Gesundheitswesens', 'Förderschule für emotionale und soziale Entwicklung', 'Berufsschulen', 'Dependance Beeden der Grundschule Einöd', 'Hessisches Kultusministerium', 'Gymnasien', 'Studienkolleg', 'Oberschule+', 'Integrierte Gesamtschule mit Grundschule  und Schule mit dem Förderschwerpunkt geistige Entwicklung', 'Förderschule im Bereich des Berufskollegs', 'Fiktive Dienststelle', 'Gemeinschaftsschule ;\\xa0\\t\\t\\t\\t\\t\\t\\t\\t\\t\\t Grundschule ;\\xa0\\t\\t\\t\\t\\t\\t\\t\\t\\t\\t Förderzentrum ;\\xa0\\t\\t\\t\\t\\t\\t\\t\\t\\t\\t Gymnasium ;\\xa0\\t\\t\\t\\t\\t\\t\\t\\t\\t\\t Hauptschule ;\\xa0\\t\\t\\t\\t\\t\\t\\t\\t\\t\\t Realschule ;', 'Gemeinschaftsschule ;\\xa0\\t\\t\\t\\t\\t\\t\\t\\t\\t\\t Förderzentrum ;\\xa0\\t\\t\\t\\t\\t\\t\\t\\t\\t\\t Hauptschule ;\\xa0\\t\\t\\t\\t\\t\\t\\t\\t\\t\\t Realschule ;', 'Gymnasium ;\\xa0\\t\\t\\t\\t\\t\\t\\t\\t\\t\\t Gemeinschaftsschule ;\\xa0\\t\\t\\t\\t\\t\\t\\t\\t\\t\\t Hauptschule ;\\xa0\\t\\t\\t\\t\\t\\t\\t\\t\\t\\t Realschule ;', 'Grundschule|Vorschulklasse', 'Schule mit dem sonderpäd. Förderschwerpunkt emotionale und soziale Entwicklung', 'Gymnasium|Stadtteilschule', 'Integrierte Gesamtschule ', 'Freie Waldorfschule und Grundschule', 'Schule mit dem Förderschwerpunkt körperliche und motorische Entwicklung', 'Förderschwerp. \"Lernen\"u.\"Geistige Entwickl.\"', 'Freie Trägerschaft ;\\xa0\\t\\t\\t\\t\\t\\t\\t\\t\\t\\t Grundschule ;\\xa0\\t\\t\\t\\t\\t\\t\\t\\t\\t\\t Gymnasium ;\\xa0\\t\\t\\t\\t\\t\\t\\t\\t\\t\\t Gemeinschaftsschule ;\\xa0\\t\\t\\t\\t\\t\\t\\t\\t\\t\\t Hauptschule ;\\xa0\\t\\t\\t\\t\\t\\t\\t\\t\\t\\t Realschule ;\\xa0\\t\\t\\t\\t\\t\\t\\t\\t\\t\\t  ;', 'Schulformbezogene (kooperative) Gesamtschule', 'Berufsvorbereitungsschule (allg. bild.)|Sonderschule|Vorschulklasse', 'Förderschulen', 'Mittelstufenschule', 'Regelschule', 'Grundschule / Ganztagsschule / weiterführende Schule', 'Berufskolleg', 'Mittelstufenschule mit Grundschule', 'Integrierte Gesamtschule in freier Trägerschaft', 'Grundschule|Gymnasium|Stadtteilschule|vorschulische Sprachförderung|Vorschulklasse', 'Schule mit dem sonderpäd. Förderschwerpunkt geistige Entwicklung', 'Fachakademien', 'Berufsfachschulen f. techn. Assistenzberufe', 'Berufsfachschule (allg. bild.)|Berufsvorbereitungsschule (allg. bild.)|Grundschule|Sonderschule|Stadtteilschule|Vorschulklasse', 'Grundschule|Stadtteilschule|Vorschulklasse', 'Oberschule', 'Berufsschule', 'Seminar Grundschule', 'Grund-, Haupt und Realschule mit Förderstufe', 'Schule nach §63d SächsSchulG', 'Stadtteilschule', 'Integrierte Sekundarschule', 'Volkshochschul-Kolleg', 'Sonstiges', 'Studienseminar Berufliche Schulen', 'Haupt- und Realschule mit Förderstufe', 'Studienseminar', 'Abendrealschule', 'Grundschulen', 'Klinik- und Krankenhausschule', 'Seminar sonderpädagogische Förderung', 'Sonderschule', 'Grundschule|vorschulische Sprachförderung|Vorschulklasse', 'Grund-, Haupt-, Real- und Förderschule', 'Dependance der Wilhelm-Heinrich-Grundschule der Grundschule Großrosseln', 'Oberstufenzentrum', 'Berufsoberschulen', 'Thüringer Gemeinschaftsschule', 'Gymnasium (Mittelstufe)', 'Wirtschaftsschulen', 'Waldorfschule in freier Trägerschaft', 'Gemeinschaftsschule ;\\xa0\\t\\t\\t\\t\\t\\t\\t\\t\\t\\t Grundschule ;\\xa0\\t\\t\\t\\t\\t\\t\\t\\t\\t\\t Hauptschule ;\\xa0\\t\\t\\t\\t\\t\\t\\t\\t\\t\\t Realschule ;']\n",
            "\n",
            "Legal Statuses: ['Ergänzungsschule - Private Schulträger (sonstige)', 'Ergänzungsschule - Weltanschauungsgemeinschaften', 'Ersatzschule - ev.-luth. Religionsgemeinschaft', 'Ersatzschule - Private Schulträger (Montessori)', 'in öffentlicher Trägerschaft', 'Ergänzungsschule - röm.-kath. Religionsgemeinschaf', 'öffentlich', 'Ersatzschule - Sonstige Religionsgemeinschaft', 'Ersatzschule - röm.-kath. Religionsgemeinschaft', 'Ergänzungsschule - ev.-ref. Religionsgemeinschaft', 'privat', 'in Trägerschaft eines Ersatzschulträgers (privat)', 'Öffentlich', 'Ersatzschule - ev.-ref. Religionsgemeinschaft', 'Ersatzschule - Weltanschauungsgemeinschaften', 'Ergänzungsschule - ev.-luth. Religionsgemeinschaft', 'Ersatzschule - Private Schulträger (Waldorfschule)', 'Ersatzschule - Private Schulträger (sonstige)']\n"
          ]
        }
      ],
      "source": [
        "# Request available filtering options (state, school_type, legal_status)\n",
        "response = requests.get(f\"{BASE_URL}/filter_params\")\n",
        "filter_params = response.json()\n",
        "\n",
        "print(\"Available States (ISO codes):\", filter_params['state'])\n",
        "print(\"\\nAvailable School Types:\", filter_params['school_type'])\n",
        "print(\"\\nLegal Statuses:\", filter_params['legal_status'])"
      ]
    },
    {
      "cell_type": "markdown",
      "id": "c87fce18",
      "metadata": {},
      "source": [
        "## 2. Get School Statistics by State"
      ]
    },
    {
      "cell_type": "code",
      "execution_count": 9,
      "id": "acaced3c",
      "metadata": {},
      "outputs": [
        {
          "data": {
            "image/png": "[encoded data removed]",
            "text/plain": [
              "<Figure size 1200x600 with 1 Axes>"
            ]
          },
          "metadata": {},
          "output_type": "display_data"
        },
        {
          "data": {
            "text/html": [
              "<div>\n",
              "<style scoped>\n",
              "    .dataframe tbody tr th:only-of-type {\n",
              "        vertical-align: middle;\n",
              "    }\n",
              "\n",
              "    .dataframe tbody tr th {\n",
              "        vertical-align: top;\n",
              "    }\n",
              "\n",
              "    .dataframe thead th {\n",
              "        text-align: right;\n",
              "    }\n",
              "</style>\n",
              "<table border=\"1\" class=\"dataframe\">\n",
              "  <thead>\n",
              "    <tr style=\"text-align: right;\">\n",
              "      <th></th>\n",
              "      <th>count</th>\n",
              "      <th>last_updated</th>\n",
              "    </tr>\n",
              "    <tr>\n",
              "      <th>state</th>\n",
              "      <th></th>\n",
              "      <th></th>\n",
              "    </tr>\n",
              "  </thead>\n",
              "  <tbody>\n",
              "    <tr>\n",
              "      <th>BB</th>\n",
              "      <td>960</td>\n",
              "      <td>2025-08-09</td>\n",
              "    </tr>\n",
              "    <tr>\n",
              "      <th>BE</th>\n",
              "      <td>926</td>\n",
              "      <td>2025-08-09</td>\n",
              "    </tr>\n",
              "    <tr>\n",
              "      <th>BW</th>\n",
              "      <td>4922</td>\n",
              "      <td>2025-08-09</td>\n",
              "    </tr>\n",
              "    <tr>\n",
              "      <th>BY</th>\n",
              "      <td>4392</td>\n",
              "      <td>2025-08-09</td>\n",
              "    </tr>\n",
              "    <tr>\n",
              "      <th>HB</th>\n",
              "      <td>207</td>\n",
              "      <td>2025-08-09</td>\n",
              "    </tr>\n",
              "    <tr>\n",
              "      <th>HE</th>\n",
              "      <td>2095</td>\n",
              "      <td>2025-08-09</td>\n",
              "    </tr>\n",
              "    <tr>\n",
              "      <th>HH</th>\n",
              "      <td>558</td>\n",
              "      <td>2025-08-09</td>\n",
              "    </tr>\n",
              "    <tr>\n",
              "      <th>MV</th>\n",
              "      <td>561</td>\n",
              "      <td>2025-08-09</td>\n",
              "    </tr>\n",
              "    <tr>\n",
              "      <th>NI</th>\n",
              "      <td>3122</td>\n",
              "      <td>2025-08-09</td>\n",
              "    </tr>\n",
              "    <tr>\n",
              "      <th>NW</th>\n",
              "      <td>5663</td>\n",
              "      <td>2025-08-09</td>\n",
              "    </tr>\n",
              "  </tbody>\n",
              "</table>\n",
              "</div>"
            ],
            "text/plain": [
              "       count last_updated\n",
              "state                    \n",
              "BB       960   2025-08-09\n",
              "BE       926   2025-08-09\n",
              "BW      4922   2025-08-09\n",
              "BY      4392   2025-08-09\n",
              "HB       207   2025-08-09\n",
              "HE      2095   2025-08-09\n",
              "HH       558   2025-08-09\n",
              "MV       561   2025-08-09\n",
              "NI      3122   2025-08-09\n",
              "NW      5663   2025-08-09"
            ]
          },
          "execution_count": 9,
          "metadata": {},
          "output_type": "execute_result"
        }
      ],
      "source": [
        "# Get school stats per state\n",
        "response = requests.get(f\"{BASE_URL}/stats\")\n",
        "stats = response.json()\n",
        "\n",
        "# Convert to DataFrame\n",
        "df_stats = pd.DataFrame(stats)\n",
        "df_stats.set_index('state', inplace=True)\n",
        "\n",
        "# Plot bar chart\n",
        "plt.figure(figsize=(12, 6))\n",
        "df_stats['count'].plot(kind='bar', color='steelblue', edgecolor='black')\n",
        "plt.title('Number of Schools by German State (DE-ISO Code)')\n",
        "plt.xlabel('State')\n",
        "plt.ylabel('School Count')\n",
        "plt.xticks(rotation=45)\n",
        "plt.grid(axis='y', linestyle='--', alpha=0.7)\n",
        "plt.tight_layout()\n",
        "plt.show()\n",
        "\n",
        "# Display data\n",
        "df_stats[['count', 'last_updated']].head(10)"
      ]
    },
    {
      "cell_type": "markdown",
      "id": "dba965a8",
      "metadata": {},
      "source": [
        "## 3. Search Schools with Filters"
      ]
    },
    {
      "cell_type": "code",
      "execution_count": 10,
      "id": "c7d75461",
      "metadata": {},
      "outputs": [],
      "source": [
        "# Query schools with optional filters\n",
        "# Example: Get up to 10 schools from Berlin (BE) containing \"Gymnasium\" in name\n",
        "\n",
        "params = {\n",
        "    \"state\": [\"BE\"],\n",
        "    \"name\": \"Gymnasium\",\n",
        "    \"limit\": 10,\n",
        "    \"skip\": 0\n",
        "}\n",
        "\n",
        "response = requests.get(f\"{BASE_URL}/schools/\", params=params)\n",
        "schools = response.json()\n",
        "\n",
        "# Convert to DataFrame\n",
        "df_schools = pd.DataFrame(schools)\n",
        "if not df_schools.empty:\n",
        "    df_schools[['id', 'name', 'city', 'school_type', 'address', 'zip']].reset_index(drop=True)\n",
        "else:\n",
        "    print(\"No schools found for the given criteria.\")"
      ]
    },
    {
      "cell_type": "markdown",
      "id": "dcb6e89d",
      "metadata": {},
      "source": [
        "## 4. Get a Specific School by ID"
      ]
    },
    {
      "cell_type": "code",
      "execution_count": 11,
      "id": "63bbe496",
      "metadata": {},
      "outputs": [
        {
          "data": {
            "text/html": [
              "<div>\n",
              "<style scoped>\n",
              "    .dataframe tbody tr th:only-of-type {\n",
              "        vertical-align: middle;\n",
              "    }\n",
              "\n",
              "    .dataframe tbody tr th {\n",
              "        vertical-align: top;\n",
              "    }\n",
              "\n",
              "    .dataframe thead th {\n",
              "        text-align: right;\n",
              "    }\n",
              "</style>\n",
              "<table border=\"1\" class=\"dataframe\">\n",
              "  <thead>\n",
              "    <tr style=\"text-align: right;\">\n",
              "      <th></th>\n",
              "      <th>id</th>\n",
              "      <th>name</th>\n",
              "      <th>address</th>\n",
              "      <th>city</th>\n",
              "      <th>email</th>\n",
              "      <th>fax</th>\n",
              "      <th>latitude</th>\n",
              "      <th>legal_status</th>\n",
              "      <th>longitude</th>\n",
              "      <th>phone</th>\n",
              "      <th>school_type</th>\n",
              "      <th>zip</th>\n",
              "      <th>update_timestamp</th>\n",
              "    </tr>\n",
              "  </thead>\n",
              "  <tbody>\n",
              "    <tr>\n",
              "      <th>0</th>\n",
              "      <td>BE-02Y07</td>\n",
              "      <td>Robert-Koch-Gymnasium</td>\n",
              "      <td>Dieffenbachstraße 60</td>\n",
              "      <td>Berlin</td>\n",
              "      <td>Koch-Gymnasium@web.de</td>\n",
              "      <td>+49 30 50585735</td>\n",
              "      <td>52.49299</td>\n",
              "      <td>öffentlich</td>\n",
              "      <td>13.415714</td>\n",
              "      <td>+49 30 50585731</td>\n",
              "      <td>Gymnasium</td>\n",
              "      <td>10967</td>\n",
              "      <td>2025-08-09T16:33:39.396145</td>\n",
              "    </tr>\n",
              "  </tbody>\n",
              "</table>\n",
              "</div>"
            ],
            "text/plain": [
              "         id                   name               address    city  \\\n",
              "0  BE-02Y07  Robert-Koch-Gymnasium  Dieffenbachstraße 60  Berlin   \n",
              "\n",
              "                   email              fax  latitude legal_status  longitude  \\\n",
              "0  Koch-Gymnasium@web.de  +49 30 50585735  52.49299   öffentlich  13.415714   \n",
              "\n",
              "             phone school_type    zip            update_timestamp  \n",
              "0  +49 30 50585731   Gymnasium  10967  2025-08-09T16:33:39.396145  "
            ]
          },
          "metadata": {},
          "output_type": "display_data"
        }
      ],
      "source": [
        "# Use a school ID from the previous result\n",
        "if 'df_schools' in locals() and not df_schools.empty:\n",
        "    example_school_id = df_schools.iloc[0]['id']\n",
        "else:\n",
        "    example_school_id = \"BE_001\"  # fallback ID\n",
        "\n",
        "response = requests.get(f\"{BASE_URL}/schools/{example_school_id}\")\n",
        "\n",
        "if response.status_code == 200:\n",
        "    school_detail = response.json()\n",
        "    display(pd.DataFrame([school_detail]))\n",
        "else:\n",
        "    print(f\"Error: {response.status_code} - {response.text}\")"
      ]
    },
    {
      "cell_type": "markdown",
      "id": "75c61455",
      "metadata": {},
      "source": [
        "## 5. Search Schools Near a Geographic Point (e.g., Berlin)"
      ]
    },
    {
      "cell_type": "code",
      "execution_count": 12,
      "id": "710f3ba8",
      "metadata": {},
      "outputs": [],
      "source": [
        "# Coordinates for central Berlin\n",
        "berlin_lat = 52.52437\n",
        "berlin_lon = 13.36796\n",
        "\n",
        "params = {\n",
        "    \"by_lat\": berlin_lat,\n",
        "    \"by_lon\": berlin_lon,\n",
        "    \"limit\": 5,\n",
        "    \"state\": [\"BE\"]\n",
        "}\n",
        "\n",
        "response = requests.get(f\"{BASE_URL}/schools/\", params=params)\n",
        "nearby_schools = response.json()\n",
        "\n",
        "df_nearby = pd.DataFrame(nearby_schools)\n",
        "if not df_nearby.empty:\n",
        "    df_nearby[['id', 'name', 'city', 'address', 'latitude', 'longitude']].reset_index(drop=True)\n",
        "else:\n",
        "    print(\"No nearby schools found.\")"
      ]
    },
    {
      "cell_type": "markdown",
      "id": "b013c01f",
      "metadata": {},
      "source": [
        "## 6. Bounding Box Filter (e.g., Around Hamburg)"
      ]
    },
    {
      "cell_type": "code",
      "execution_count": 13,
      "id": "a42485c7",
      "metadata": {},
      "outputs": [],
      "source": [
        "# Define bounding box (top, bottom, left, right) in WGS84\n",
        "bbox = {\n",
        "    \"bb_top\": 53.6,\n",
        "    \"bb_bottom\": 53.4,\n",
        "    \"bb_left\": 9.8,\n",
        "    \"bb_right\": 10.2\n",
        "}\n",
        "\n",
        "response = requests.get(f\"{BASE_URL}/schools/\", params=bbox)\n",
        "bbox_schools = response.json()\n",
        "\n",
        "df_bbox = pd.DataFrame(bbox_schools)\n",
        "if not df_bbox.empty:\n",
        "    df_bbox[['name', 'city', 'school_type', 'latitude', 'longitude']].reset_index(drop=True)\n",
        "else:\n",
        "    print(\"No schools found within the specified bounding box.\")"
      ]
    },
    {
      "cell_type": "markdown",
      "id": "4c4b7496",
      "metadata": {},
      "source": [
        "## 7. Search Schools Updated After a Specific Date"
      ]
    },
    {
      "cell_type": "code",
      "execution_count": 14,
      "id": "c791c5e8",
      "metadata": {},
      "outputs": [],
      "source": [
        "# Get schools updated after January 1, 2024\n",
        "params = {\n",
        "    \"update_timestamp\": \"2024-01-01\",\n",
        "    \"limit\": 5\n",
        "}\n",
        "\n",
        "response = requests.get(f\"{BASE_URL}/schools/\", params=params)\n",
        "updated_schools = response.json()\n",
        "\n",
        "df_updated = pd.DataFrame(updated_schools)\n",
        "if not df_updated.empty:\n",
        "    df_updated[['name', 'city', 'update_timestamp']].reset_index(drop=True)\n",
        "else:\n",
        "    print(\"No schools updated after 2024-01-01 found.\")"
      ]
    },
    {
      "cell_type": "markdown",
      "id": "a3ec42eb",
      "metadata": {},
      "source": [
        "## Notes\n",
        "\n",
        "- All geographic coordinates use **WGS84 (EPSG:4326)**.\n",
        "- Combine filters like `state`, `name`, `by_lat/by_lon`, or `update_timestamp`.\n",
        "- Use `skip` and `limit` for pagination (`limit` default: 100).\n",
        "- Add `include_raw=true` to get raw scraped data for debugging.\n",
        "\n",
        "🔧 **Tip**: Export results:\n",
        "```python\n",
        "df_schools.to_csv('german_schools.csv', index=False)\n",
        "```"
      ]
    }
  ],
  "metadata": {
    "kernelspec": {
      "display_name": "tree-sitter-env",
      "language": "python",
      "name": "python3"
    },
    "language_info": {
      "codemirror_mode": {
        "name": "ipython",
        "version": 3
      },
      "file_extension": ".py",
      "mimetype": "text/x-python",
      "name": "python",
      "nbconvert_exporter": "python",
      "pygments_lexer": "ipython3",
      "version": "3.12.3"
    },
    "orig_nbformat": 4
  },
  "nbformat": 4,
  "nbformat_minor": 5
}
